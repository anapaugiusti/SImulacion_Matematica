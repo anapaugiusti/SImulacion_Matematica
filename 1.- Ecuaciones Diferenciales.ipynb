{
 "cells": [
  {
   "cell_type": "code",
   "execution_count": 1,
   "metadata": {},
   "outputs": [],
   "source": [
    "#EcuacionesDiferenciales"
   ]
  },
  {
   "cell_type": "code",
   "execution_count": 6,
   "metadata": {},
   "outputs": [],
   "source": [
    "from scipy.integrate import odeint\n",
    "import numpy as np\n",
    "def df_df(x,t,a,b, c, d):\n",
    "    dx = a + x[0] - b *x[0] *x[1]\n",
    "    dy = - c *x[1] + d * x[0] *x[1]\n",
    "    return np.array([dx,dy])\n",
    "\n",
    "#parametros\n",
    "a = 0.1\n",
    "b = 0.02\n",
    "c = 0.3\n",
    "d = 0.01\n",
    "\n",
    "#Condiciones iniciales\n",
    "x0 = 40 #presas\n",
    "y0 = 9 #depredadores\n",
    "conds_iniciales = np.array([x0, y0])\n",
    "\n",
    "#condiciones para integración\n",
    "tf = 200\n",
    "N = 800\n",
    "t = np.linspace(0,tf, N)"
   ]
  },
  {
   "cell_type": "code",
   "execution_count": null,
   "metadata": {},
   "outputs": [],
   "source": []
  }
 ],
 "metadata": {
  "kernelspec": {
   "display_name": "Python 3",
   "language": "python",
   "name": "python3"
  },
  "language_info": {
   "codemirror_mode": {
    "name": "ipython",
    "version": 3
   },
   "file_extension": ".py",
   "mimetype": "text/x-python",
   "name": "python",
   "nbconvert_exporter": "python",
   "pygments_lexer": "ipython3",
   "version": "3.6.5"
  }
 },
 "nbformat": 4,
 "nbformat_minor": 2
}
