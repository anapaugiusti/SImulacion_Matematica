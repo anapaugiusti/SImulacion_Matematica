{
 "cells": [
  {
   "cell_type": "code",
   "execution_count": 14,
   "metadata": {},
   "outputs": [
    {
     "name": "stdout",
     "output_type": "stream",
     "text": [
      "Requirement already satisfied: pulp in /anaconda3/lib/python3.6/site-packages (1.6.8)\n",
      "Requirement already satisfied: pyparsing>=2.0.1 in /anaconda3/lib/python3.6/site-packages (from pulp) (2.2.0)\n",
      "\u001b[31mdistributed 1.21.8 requires msgpack, which is not installed.\u001b[0m\n",
      "\u001b[33mYou are using pip version 10.0.1, however version 18.0 is available.\n",
      "You should consider upgrading via the 'pip install --upgrade pip' command.\u001b[0m\n"
     ]
    }
   ],
   "source": [
    "!pip install pulp\n",
    "from pulp import *"
   ]
  },
  {
   "cell_type": "code",
   "execution_count": 15,
   "metadata": {},
   "outputs": [],
   "source": [
    "problema = LpProblem(\"Rentabilidad de la empresa\",LpMaximize)\n",
    "x1=LpVariable(\"Acciones de la compañis telefonica\",0,None)\n",
    "x2=LpVariable(\"Acciones de una entidad financiera\",0,None)\n",
    "x3=LpVariable(\"Fondos de Inversion\",0,None)\n",
    "x4=LpVariable(\"Fondos de pensiones\",0,None)\n",
    "x5=LpVariable(\"IPF\",0,None)\n",
    "x6=LpVariable(\"Inversión en Futuros\",0,None)\n",
    "x7=LpVariable(\"Cedulas Hipotecarias\",0,None)\n",
    "x8=LpVariable(\"Participaciones Preferentes\",0,None)\n",
    "x9=LpVariable(\"Obligaciones del Tesoro\",0,None)\n",
    "x10=LpVariable(\"Pagares de Empresas\",0,None)"
   ]
  },
  {
   "cell_type": "code",
   "execution_count": 16,
   "metadata": {},
   "outputs": [],
   "source": [
    "problema+= 0.068*x1 + 0.05*x2 + 0.02*x3 + 0.075*x4 + 0.0075*x5 + 0.063*x6 + 0.038*x7 + 0.07*x8 \n",
    "+ 0.016*x9 + 0.02*x10"
   ]
  },
  {
   "cell_type": "code",
   "execution_count": 17,
   "metadata": {},
   "outputs": [],
   "source": [
    "problema+= x1 + x2 <= 250000\n",
    "problema+= x5 + x9 >=700000\n",
    "problema+= x2 <= 50000\n",
    "problema+= x3 >= 300000\n",
    "problema+= x4 <= 200000\n",
    "problema+= x5 >= 100000\n",
    "problema+= x6 <= 100000\n",
    "problema+= x7 >= 75000\n",
    "problema+= x8 <= 100000\n",
    "problema+= x9 >= 400000\n",
    "problema+= x1 + x2 + x3 + x4 + x5 + x6 + x7 + x8 + x9 + x10 <= 1500000"
   ]
  },
  {
   "cell_type": "code",
   "execution_count": 18,
   "metadata": {},
   "outputs": [
    {
     "name": "stdout",
     "output_type": "stream",
     "text": [
      "Optimal\n",
      "Acciones_de_la_compañis_telefonica = 125000.0\n",
      "Acciones_de_una_entidad_financiera = 0.0\n",
      "Cedulas_Hipotecarias = 75000.0\n",
      "Fondos_de_Inversion = 300000.0\n",
      "Fondos_de_pensiones = 200000.0\n",
      "IPF = 100000.0\n",
      "Inversión_en_Futuros = 0.0\n",
      "Obligaciones_del_Tesoro = 600000.0\n",
      "Pagares_de_Empresas = 0.0\n",
      "Participaciones_Preferentes = 100000.0\n"
     ]
    }
   ],
   "source": [
    "problema.solve()\n",
    "print(LpStatus[problema.status])\n",
    "\n",
    "for i in problema.variables():\n",
    "    print(i.name,\"=\",i.varValue)"
   ]
  }
 ],
 "metadata": {
  "kernelspec": {
   "display_name": "Python 3",
   "language": "python",
   "name": "python3"
  },
  "language_info": {
   "codemirror_mode": {
    "name": "ipython",
    "version": 3
   },
   "file_extension": ".py",
   "mimetype": "text/x-python",
   "name": "python",
   "nbconvert_exporter": "python",
   "pygments_lexer": "ipython3",
   "version": "3.6.5"
  }
 },
 "nbformat": 4,
 "nbformat_minor": 2
}
